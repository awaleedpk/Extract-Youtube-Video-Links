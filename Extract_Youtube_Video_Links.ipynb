{
  "nbformat": 4,
  "nbformat_minor": 0,
  "metadata": {
    "colab": {
      "provenance": []
    },
    "kernelspec": {
      "name": "python3",
      "display_name": "Python 3"
    },
    "language_info": {
      "name": "python"
    }
  },
  "cells": [
    {
      "cell_type": "code",
      "source": [
        "import os\n",
        "import csv\n",
        "from googleapiclient.discovery import build\n",
        "\n",
        "# Replace 'YOUR_API_KEY' with your actual YouTube Data API key\n",
        "api_key = 'YOUR_API_KEY'\n",
        "youtube = build('youtube', 'v3', developerKey=api_key)\n",
        "\n",
        "def get_video_links(channel_name):\n",
        "    request = youtube.search().list(\n",
        "        q=channel_name,\n",
        "        type='channel',\n",
        "        part='id'\n",
        "    )\n",
        "    response = request.execute()\n",
        "    channel_id = response['items'][0]['id']['channelId']\n",
        "\n",
        "    video_links = []\n",
        "    next_page_token = None\n",
        "\n",
        "    while True:\n",
        "        request = youtube.search().list(\n",
        "            channelId=channel_id,\n",
        "            maxResults=50,\n",
        "            order='date',\n",
        "            type='video',\n",
        "            part='id',\n",
        "            pageToken=next_page_token\n",
        "        )\n",
        "        response = request.execute()\n",
        "\n",
        "        for item in response['items']:\n",
        "            video_links.append(f\"https://www.youtube.com/watch?v={item['id']['videoId']}\")\n",
        "\n",
        "        next_page_token = response.get('nextPageToken')\n",
        "\n",
        "        if not next_page_token:\n",
        "            break\n",
        "\n",
        "    return video_links\n",
        "\n",
        "def save_to_csv(video_links, file_name):\n",
        "    with open(file_name, mode='w', newline='', encoding='utf-8') as file:\n",
        "        writer = csv.writer(file)\n",
        "        for link in video_links:\n",
        "            writer.writerow([link])\n",
        "\n",
        "# Example usage\n",
        "# Change YOUR_CHANNEL_NAME\n",
        "channel_name = 'YOUR_CHANNEL_NAME'\n",
        "video_links = get_video_links(channel_name)\n",
        "save_to_csv(video_links, 'video_links.csv')\n"
      ],
      "metadata": {
        "id": "MuB7pBnlzh46"
      },
      "execution_count": 5,
      "outputs": []
    }
  ]
}